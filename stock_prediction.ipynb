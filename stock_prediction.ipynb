{
  "nbformat": 4,
  "nbformat_minor": 0,
  "metadata": {
    "colab": {
      "name": "stock-prediction.ipynb",
      "provenance": [],
      "collapsed_sections": [],
      "authorship_tag": "ABX9TyOhBw8E4ViGVwJi7StAuDW2",
      "include_colab_link": true
    },
    "kernelspec": {
      "name": "python3",
      "display_name": "Python 3"
    }
  },
  "cells": [
    {
      "cell_type": "markdown",
      "metadata": {
        "id": "view-in-github",
        "colab_type": "text"
      },
      "source": [
        "<a href=\"https://colab.research.google.com/github/Sommerli/stock-prediction/blob/main/stock_prediction.ipynb\" target=\"_parent\"><img src=\"https://colab.research.google.com/assets/colab-badge.svg\" alt=\"Open In Colab\"/></a>"
      ]
    },
    {
      "cell_type": "markdown",
      "metadata": {
        "id": "wNp9Z3gLw1cl"
      },
      "source": [
        "# Project proposal: Stock-price prediction\n",
        "\n",
        "Stock market prediction has attracted much attention from academia as well as business. Due\n",
        "to the non-linear, volatile and complex nature of the market, it is quite difficult to predict. As\n",
        "the stock markets grow bigger, more investors pay attention to develop a systematic approach\n",
        "to predict the stock market. Since the stock market is very sensitive to the external information,\n",
        "the performance of previous prediction systems is limited by merely considering the traditional\n",
        "stock data. New forms of collective intelligence have emerged with the rise of the Internet (e.g.\n",
        "Google Trends, Wikipedia, etc.). The changes on these platforms will significantly affect the\n",
        "stock market. In addition, both the financial news sentiment and volumes are believed to have\n",
        "impact on the stock price.\n",
        "\n",
        "In this project, you should develop and evaluate a prediction model that could be used to predict\n",
        "the stocks’ short-term movement, and price. Besides historical data directly from the stock\n",
        "market, some external data sources should also be considered as inputs to the model.\n",
        "\n",
        "In summary, the contributions to this work are listed below:\n",
        "\n",
        "1. Detect the potential factors(features) that could impact the stock market and acquire the\n",
        "data from disparate data sources: \n",
        "    \n",
        "    (a) publicly available market information on stocks such as Yahoo Finance, including opening/closing prices, trade volume, etc.; \n",
        "\n",
        "    (b) commonly used technical indicatorsfrom Yahoo finance that reflect price variation over time such as Stochastic Oscillator (%K), the Larry William (LW) % R Indicator and the Relative Strength Index (RSI) ; \n",
        "\n",
        "    (c) daily counts of Google Trends on the stocks of interest; \n",
        "     \n",
        "    (d) the number of unique visitors for pertinent Wikipedia pages per day.\n",
        "\n",
        "2. Use a variable selection method such as PCA, Correlation Coefficient or any other suitable methods to filter the most important features.\n",
        "\n",
        "3. Make use of Artificial Neural Networks and most important featuresfrom disparate data sources to build the forecasting model.\n",
        "\n",
        "4. The proposed model should allow investors to predict the next-day Closing, Opening or both prices for a particular stock or index.\n",
        "\n",
        "5. Evaluate the prediction model based on different metrics(ex. MSE, MAPE) and provide decision making suggestions for the investors.\n",
        "\n",
        "Note 1: You can use any stock such as AAPL for Apple, GOOG for Google, and etc.\n",
        "\n",
        "Note 2. Use the best practices you learned in the course to solve the problem.\n",
        "To obtain more information about this project, you can refer to the Chapter 2 of the\n",
        "following paper: Application of machine learning techniques for stock market\n",
        "prediction, Bin Weng, 2017.\n"
      ]
    },
    {
      "cell_type": "markdown",
      "metadata": {
        "id": "Kg2txkumKuJK"
      },
      "source": [
        "# Factors \n",
        "Hvilke variabler må være med i modellen?\n",
        "\n",
        "1. price on market open and close, trade volume, etc\n",
        "2. technical indicators: Stochastic, Willams %R, Relative Strength Index ...\n",
        "simple moving average?\n",
        "3. daily count of Google Trends on the stock of interest\n",
        "4. the number of unique visitors for pertinent Wikipedia pages per day \n",
        "\n",
        "\n"
      ]
    },
    {
      "cell_type": "code",
      "metadata": {
        "id": "79wKCyPJQmlR",
        "outputId": "b3fd414a-12f8-4849-f7ad-38d6d8538d14",
        "colab": {
          "base_uri": "https://localhost:8080/"
        }
      },
      "source": [
        "# import guide https://colab.research.google.com/notebooks/snippets/importing_libraries.ipynb\n",
        "\n",
        "!pip install yfinance"
      ],
      "execution_count": null,
      "outputs": [
        {
          "output_type": "stream",
          "text": [
            "Requirement already satisfied: yfinance in /usr/local/lib/python3.6/dist-packages (0.1.55)\n",
            "Requirement already satisfied: pandas>=0.24 in /usr/local/lib/python3.6/dist-packages (from yfinance) (1.1.4)\n",
            "Requirement already satisfied: lxml>=4.5.1 in /usr/local/lib/python3.6/dist-packages (from yfinance) (4.6.1)\n",
            "Requirement already satisfied: requests>=2.20 in /usr/local/lib/python3.6/dist-packages (from yfinance) (2.23.0)\n",
            "Requirement already satisfied: numpy>=1.15 in /usr/local/lib/python3.6/dist-packages (from yfinance) (1.18.5)\n",
            "Requirement already satisfied: multitasking>=0.0.7 in /usr/local/lib/python3.6/dist-packages (from yfinance) (0.0.9)\n",
            "Requirement already satisfied: python-dateutil>=2.7.3 in /usr/local/lib/python3.6/dist-packages (from pandas>=0.24->yfinance) (2.8.1)\n",
            "Requirement already satisfied: pytz>=2017.2 in /usr/local/lib/python3.6/dist-packages (from pandas>=0.24->yfinance) (2018.9)\n",
            "Requirement already satisfied: certifi>=2017.4.17 in /usr/local/lib/python3.6/dist-packages (from requests>=2.20->yfinance) (2020.6.20)\n",
            "Requirement already satisfied: urllib3!=1.25.0,!=1.25.1,<1.26,>=1.21.1 in /usr/local/lib/python3.6/dist-packages (from requests>=2.20->yfinance) (1.24.3)\n",
            "Requirement already satisfied: idna<3,>=2.5 in /usr/local/lib/python3.6/dist-packages (from requests>=2.20->yfinance) (2.10)\n",
            "Requirement already satisfied: chardet<4,>=3.0.2 in /usr/local/lib/python3.6/dist-packages (from requests>=2.20->yfinance) (3.0.4)\n",
            "Requirement already satisfied: six>=1.5 in /usr/local/lib/python3.6/dist-packages (from python-dateutil>=2.7.3->pandas>=0.24->yfinance) (1.15.0)\n"
          ],
          "name": "stdout"
        }
      ]
    },
    {
      "cell_type": "markdown",
      "metadata": {
        "id": "r8zR6C-WSrtb"
      },
      "source": [
        "# Libraries\n",
        "Yahoo finance - yfinance: get stock data..\n"
      ]
    },
    {
      "cell_type": "code",
      "metadata": {
        "id": "ZX4m_DDuRYTC"
      },
      "source": [
        "import yfinance as yf # eller bare pandas datareader?\n",
        "import pandas as pd\n",
        "import pandas_datareader as pdr\n",
        "import matplotlib.pyplot as plt\n"
      ],
      "execution_count": null,
      "outputs": []
    },
    {
      "cell_type": "markdown",
      "metadata": {
        "id": "aa77piVxgSfj"
      },
      "source": [
        "Enter desired ticker"
      ]
    },
    {
      "cell_type": "code",
      "metadata": {
        "id": "8uWDj3Q-wwFH",
        "outputId": "bc951e0c-850f-4583-97a1-aae48a84177f",
        "colab": {
          "base_uri": "https://localhost:8080/"
        }
      },
      "source": [
        "# Yahoo finance - get data\n",
        "TICKER = 'AAPL'\n",
        "\n",
        "stock = yf.Ticker(TICKER)\n",
        "stock"
      ],
      "execution_count": null,
      "outputs": [
        {
          "output_type": "execute_result",
          "data": {
            "text/plain": [
              "yfinance.Ticker object <AAPL>"
            ]
          },
          "metadata": {
            "tags": []
          },
          "execution_count": 93
        }
      ]
    },
    {
      "cell_type": "code",
      "metadata": {
        "id": "0WDDQDobSZnn",
        "outputId": "c765edb2-54a9-4cab-bc27-0bb0357087d0",
        "colab": {
          "base_uri": "https://localhost:8080/",
          "height": 450
        }
      },
      "source": [
        "# pandas_datareader - get data\n",
        "TICKER = 'AAPL'\n",
        "\n",
        "stock2 = pdr.DataReader(TICKER, data_source='yahoo')\n",
        "stock2"
      ],
      "execution_count": null,
      "outputs": [
        {
          "output_type": "execute_result",
          "data": {
            "text/html": [
              "<div>\n",
              "<style scoped>\n",
              "    .dataframe tbody tr th:only-of-type {\n",
              "        vertical-align: middle;\n",
              "    }\n",
              "\n",
              "    .dataframe tbody tr th {\n",
              "        vertical-align: top;\n",
              "    }\n",
              "\n",
              "    .dataframe thead th {\n",
              "        text-align: right;\n",
              "    }\n",
              "</style>\n",
              "<table border=\"1\" class=\"dataframe\">\n",
              "  <thead>\n",
              "    <tr style=\"text-align: right;\">\n",
              "      <th></th>\n",
              "      <th>High</th>\n",
              "      <th>Low</th>\n",
              "      <th>Open</th>\n",
              "      <th>Close</th>\n",
              "      <th>Volume</th>\n",
              "      <th>Adj Close</th>\n",
              "    </tr>\n",
              "    <tr>\n",
              "      <th>Date</th>\n",
              "      <th></th>\n",
              "      <th></th>\n",
              "      <th></th>\n",
              "      <th></th>\n",
              "      <th></th>\n",
              "      <th></th>\n",
              "    </tr>\n",
              "  </thead>\n",
              "  <tbody>\n",
              "    <tr>\n",
              "      <th>2015-11-18</th>\n",
              "      <td>29.372499</td>\n",
              "      <td>28.875000</td>\n",
              "      <td>28.940001</td>\n",
              "      <td>29.322500</td>\n",
              "      <td>186698800.0</td>\n",
              "      <td>26.945841</td>\n",
              "    </tr>\n",
              "    <tr>\n",
              "      <th>2015-11-19</th>\n",
              "      <td>29.937500</td>\n",
              "      <td>29.190001</td>\n",
              "      <td>29.410000</td>\n",
              "      <td>29.695000</td>\n",
              "      <td>173183200.0</td>\n",
              "      <td>27.288149</td>\n",
              "    </tr>\n",
              "    <tr>\n",
              "      <th>2015-11-20</th>\n",
              "      <td>29.980000</td>\n",
              "      <td>29.712500</td>\n",
              "      <td>29.799999</td>\n",
              "      <td>29.825001</td>\n",
              "      <td>137148400.0</td>\n",
              "      <td>27.407616</td>\n",
              "    </tr>\n",
              "    <tr>\n",
              "      <th>2015-11-23</th>\n",
              "      <td>29.932501</td>\n",
              "      <td>29.334999</td>\n",
              "      <td>29.817499</td>\n",
              "      <td>29.437500</td>\n",
              "      <td>129930000.0</td>\n",
              "      <td>27.051517</td>\n",
              "    </tr>\n",
              "    <tr>\n",
              "      <th>2015-11-24</th>\n",
              "      <td>29.837500</td>\n",
              "      <td>29.280001</td>\n",
              "      <td>29.332500</td>\n",
              "      <td>29.719999</td>\n",
              "      <td>171212800.0</td>\n",
              "      <td>27.311123</td>\n",
              "    </tr>\n",
              "    <tr>\n",
              "      <th>...</th>\n",
              "      <td>...</td>\n",
              "      <td>...</td>\n",
              "      <td>...</td>\n",
              "      <td>...</td>\n",
              "      <td>...</td>\n",
              "      <td>...</td>\n",
              "    </tr>\n",
              "    <tr>\n",
              "      <th>2020-11-10</th>\n",
              "      <td>117.589996</td>\n",
              "      <td>114.129997</td>\n",
              "      <td>115.550003</td>\n",
              "      <td>115.970001</td>\n",
              "      <td>138023400.0</td>\n",
              "      <td>115.970001</td>\n",
              "    </tr>\n",
              "    <tr>\n",
              "      <th>2020-11-11</th>\n",
              "      <td>119.629997</td>\n",
              "      <td>116.440002</td>\n",
              "      <td>117.190002</td>\n",
              "      <td>119.489998</td>\n",
              "      <td>112295000.0</td>\n",
              "      <td>119.489998</td>\n",
              "    </tr>\n",
              "    <tr>\n",
              "      <th>2020-11-12</th>\n",
              "      <td>120.529999</td>\n",
              "      <td>118.570000</td>\n",
              "      <td>119.620003</td>\n",
              "      <td>119.209999</td>\n",
              "      <td>103162300.0</td>\n",
              "      <td>119.209999</td>\n",
              "    </tr>\n",
              "    <tr>\n",
              "      <th>2020-11-13</th>\n",
              "      <td>119.669998</td>\n",
              "      <td>117.870003</td>\n",
              "      <td>119.440002</td>\n",
              "      <td>119.260002</td>\n",
              "      <td>81581900.0</td>\n",
              "      <td>119.260002</td>\n",
              "    </tr>\n",
              "    <tr>\n",
              "      <th>2020-11-16</th>\n",
              "      <td>120.989998</td>\n",
              "      <td>118.150002</td>\n",
              "      <td>118.919998</td>\n",
              "      <td>120.300003</td>\n",
              "      <td>86719256.0</td>\n",
              "      <td>120.300003</td>\n",
              "    </tr>\n",
              "  </tbody>\n",
              "</table>\n",
              "<p>1258 rows × 6 columns</p>\n",
              "</div>"
            ],
            "text/plain": [
              "                  High         Low  ...       Volume   Adj Close\n",
              "Date                                ...                         \n",
              "2015-11-18   29.372499   28.875000  ...  186698800.0   26.945841\n",
              "2015-11-19   29.937500   29.190001  ...  173183200.0   27.288149\n",
              "2015-11-20   29.980000   29.712500  ...  137148400.0   27.407616\n",
              "2015-11-23   29.932501   29.334999  ...  129930000.0   27.051517\n",
              "2015-11-24   29.837500   29.280001  ...  171212800.0   27.311123\n",
              "...                ...         ...  ...          ...         ...\n",
              "2020-11-10  117.589996  114.129997  ...  138023400.0  115.970001\n",
              "2020-11-11  119.629997  116.440002  ...  112295000.0  119.489998\n",
              "2020-11-12  120.529999  118.570000  ...  103162300.0  119.209999\n",
              "2020-11-13  119.669998  117.870003  ...   81581900.0  119.260002\n",
              "2020-11-16  120.989998  118.150002  ...   86719256.0  120.300003\n",
              "\n",
              "[1258 rows x 6 columns]"
            ]
          },
          "metadata": {
            "tags": []
          },
          "execution_count": 94
        }
      ]
    },
    {
      "cell_type": "code",
      "metadata": {
        "id": "F6hvz0NxQ9ok",
        "outputId": "9dad5ac0-6577-42bb-d75a-6a41b8319562",
        "colab": {
          "base_uri": "https://localhost:8080/",
          "height": 399
        }
      },
      "source": [
        "stock.history(interval='1d', start='2020-1-1')\n",
        "stock_open_price = stock.history(period='max')['Open']\n",
        "\n",
        "# setup figure\n",
        "plt.ylim = stock.history(period='max')[['Open','Close']].values.max() * 1.1\n",
        "plt.figure(figsize=(50,10))\n",
        "\n",
        "plt.plot(stock_open_price.index, stock_open_price.values)"
      ],
      "execution_count": null,
      "outputs": [
        {
          "output_type": "execute_result",
          "data": {
            "text/plain": [
              "[<matplotlib.lines.Line2D at 0x7f76845a1710>]"
            ]
          },
          "metadata": {
            "tags": []
          },
          "execution_count": 96
        },
        {
          "output_type": "display_data",
          "data": {
            "image/png": "[encoded data removed]",
            "text/plain": [
              "<Figure size 3600x720 with 1 Axes>"
            ]
          },
          "metadata": {
            "tags": [],
            "needs_background": "light"
          }
        }
      ]
    },
    {
      "cell_type": "code",
      "metadata": {
        "id": "Bm5yuY5cUuOL"
      },
      "source": [
        ""
      ],
      "execution_count": null,
      "outputs": []
    }
  ]
}